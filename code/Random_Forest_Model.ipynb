{
 "cells": [
  {
   "cell_type": "markdown",
   "metadata": {},
   "source": [
    "## Importing modules"
   ]
  },
  {
   "cell_type": "code",
   "execution_count": 8,
   "metadata": {},
   "outputs": [],
   "source": [
    "import numpy as np\n",
    "from sklearn.ensemble import RandomForestClassifier\n",
    "from sklearn.metrics import accuracy_score\n",
    "from load_data import load_data, load_resized_data\n",
    "import matplotlib.pyplot as plt\n",
    "%matplotlib inline"
   ]
  },
  {
   "cell_type": "markdown",
   "metadata": {},
   "source": [
    "## Specifying size of images"
   ]
  },
  {
   "cell_type": "code",
   "execution_count": 2,
   "metadata": {},
   "outputs": [],
   "source": [
    "#dimensions of image to be loaded in \n",
    "img_rows=100 \n",
    "img_cols=100"
   ]
  },
  {
   "cell_type": "markdown",
   "metadata": {},
   "source": [
    "## Loading in train and validation datasets"
   ]
  },
  {
   "cell_type": "code",
   "execution_count": 3,
   "metadata": {},
   "outputs": [
    {
     "name": "stdout",
     "output_type": "stream",
     "text": [
      "['Parasitized', 'Uninfected']\n",
      "------------------------------\n",
      "Creating training images...\n",
      "------------------------------\n",
      "Loading done.\n"
     ]
    }
   ],
   "source": [
    "X_train, X_valid, Y_train, Y_valid = load_resized_data(img_rows, img_cols)"
   ]
  },
  {
   "cell_type": "markdown",
   "metadata": {},
   "source": [
    "## Resizing data for Random Forest"
   ]
  },
  {
   "cell_type": "code",
   "execution_count": 6,
   "metadata": {},
   "outputs": [],
   "source": [
    "#changes data from shape (22096,100,100,3) to (22096,30000)\n",
    "new_x_train=X_train.reshape([X_train.shape[0],np.product(X_train.shape[1:4])]) \n",
    "#changes data from shape (5512,100,100,3) to (5512,30000)\n",
    "new_x_test=X_valid.reshape([X_valid.shape[0],np.product(X_valid.shape[1:4])])"
   ]
  },
  {
   "cell_type": "markdown",
   "metadata": {},
   "source": [
    "## Training with default model"
   ]
  },
  {
   "cell_type": "code",
   "execution_count": 9,
   "metadata": {},
   "outputs": [],
   "source": [
    "clf=RandomForestClassifier() #creates model\n",
    "clf.fit(new_x_train,Y_train,random_state=1408) #fits model\n",
    "preds = clf.predict(new_x_test) #predicts using validation data\n",
    "print(\"Accuracy:\", accuracy_score(Y_valid,preds)) #prints accuracy"
   ]
  },
  {
   "cell_type": "markdown",
   "metadata": {},
   "source": [
    "## Plot of the most important features"
   ]
  },
  {
   "cell_type": "code",
   "execution_count": null,
   "metadata": {},
   "outputs": [],
   "source": [
    "arr=clf.feature_importances_ # makes an array of the feature importance values\n",
    "num_top_values=15 # number of top features one wants to acquire\n",
    "arr=arr.argsort()[-num_top_values:][::-1] # creates a list of indices of the top values based on the value specified \n",
    "y=clf.feature_importances_[arr] # creates an subset of the feat. import. array using indices from top feat. import. vals.\n",
    "\n",
    "fig, ax = plt.subplots() \n",
    "width = 0.4 # the width of the bars \n",
    "ind = np.arange(len(y)) # the x locations for the groups\n",
    "ax.barh(ind, y, width, color=\"green\")\n",
    "ax.set_yticks(ind+width/10)\n",
    "ax.set_yticklabels(arr, minor=False)\n",
    "plt.title('Feature importance in RandomForest Classifier')\n",
    "plt.xlabel('Relative importance')\n",
    "plt.ylabel('feature') \n",
    "plt.figure(figsize=(5,5))\n",
    "fig.set_size_inches(6.5, 4.5, forward=True)"
   ]
  },
  {
   "cell_type": "markdown",
   "metadata": {},
   "source": [
    "## Hyperparameter sweep for better accuracy"
   ]
  },
  {
   "cell_type": "code",
   "execution_count": null,
   "metadata": {},
   "outputs": [],
   "source": [
    "n_estimator_parameters=[10,20,50,10,20,50] # values for n_estimators used\n",
    "oob_score_parameters=[True,True,True,False,False,False] # values for oob_score used\n",
    "accuracy_score_list=[] #stores accuracy scores from various models\n",
    "\n",
    "for i in range(len(oob_score_parameters)):\n",
    "    clf = RandomForestClassifier(oob_score=oob_score_parameters[i],n_estimators=n_estimator_parameters[i],random_state=1408)\n",
    "    clf.fit(new_x_train,Y_train)\n",
    "    preds = clf.predict(new_x_test)\n",
    "    accuracy_score_list.append(accuracy_score(Y_valid,preds))"
   ]
  },
  {
   "cell_type": "markdown",
   "metadata": {},
   "source": [
    "## Plot of Hyperparameter sweep"
   ]
  },
  {
   "cell_type": "code",
   "execution_count": null,
   "metadata": {},
   "outputs": [],
   "source": [
    "labels=[\"10T\",\"20T\",\"50T\",\"10F\",\"20F\",\"50F\"]\n",
    "colors=[\"g\",\"g\",\"b\",\"r\",\"r\",\"r\"]\n",
    "plt.rcParams[\"font.size\"] = 25\n",
    "plt.rcParams[\"axes.titlepad\"] = 20\n",
    "fig=plt.figure(figsize=[20,10])\n",
    "\n",
    "plt.bar(labels,accuracy_score_list,color=colors,label=\"Parameters Used: # = n_estimators, letter = if oob_score is True or False\")\n",
    "plt.ylabel(\"Accuracy\",fontsize=\"large\")\n",
    "plt.title(\"Parameter swipe for our Random Forest Model\")\n",
    "plt.axis(ymin=0,ymax=1,fontsize=\"small\")\n",
    "plt.legend(loc=1,prop={'size': 20})"
   ]
  }
 ],
 "metadata": {
  "kernelspec": {
   "display_name": "Python 3",
   "language": "python",
   "name": "python3"
  },
  "language_info": {
   "codemirror_mode": {
    "name": "ipython",
    "version": 3
   },
   "file_extension": ".py",
   "mimetype": "text/x-python",
   "name": "python",
   "nbconvert_exporter": "python",
   "pygments_lexer": "ipython3",
   "version": "3.6.0"
  }
 },
 "nbformat": 4,
 "nbformat_minor": 2
}
